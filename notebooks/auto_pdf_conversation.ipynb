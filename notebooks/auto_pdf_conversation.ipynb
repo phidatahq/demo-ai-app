{
 "cells": [
  {
   "cell_type": "markdown",
   "id": "147a72de-12f6-4265-8ae6-78da85e90a0f",
   "metadata": {},
   "source": [
    "## Autonomous PDF Assistant\n",
    "\n",
    "This notebook shows common recipes for working with the Autonomous PDF Assistant"
   ]
  },
  {
   "cell_type": "markdown",
   "id": "7f9e44f4-86b1-4d42-8cc7-daea5f19df3c",
   "metadata": {},
   "source": [
    "### Create the assistant\n",
    "\n",
    "Create the assistant and load the knowledge base"
   ]
  },
  {
   "cell_type": "code",
   "execution_count": null,
   "id": "11ec3dc5-929b-4aeb-a680-622cc2200ca6",
   "metadata": {},
   "outputs": [],
   "source": [
    "from ai.assistants.pdf_auto import get_autonomous_pdf_assistant\n",
    "\n",
    "auto_pdf_assistant = get_autonomous_pdf_assistant()\n",
    "\n",
    "LOAD_KNOWLEDGE_BASE = True\n",
    "if LOAD_KNOWLEDGE_BASE and auto_pdf_assistant.knowledge_base:\n",
    "    auto_pdf_assistant.knowledge_base.load(recreate=False)"
   ]
  },
  {
   "cell_type": "markdown",
   "id": "32794361-7c00-4dac-9f66-f6bdfe08945e",
   "metadata": {},
   "source": [
    "### Chatting with the Autonomous PDF assistant \n",
    "\n",
    "You can chat with a conversation using:\n",
    "1. The `print_response()` function that prints the reponse\n",
    "2. The `run()` function that returns the response"
   ]
  },
  {
   "cell_type": "code",
   "execution_count": null,
   "id": "f138be8a-7605-484f-8600-48d0adea6820",
   "metadata": {},
   "outputs": [],
   "source": [
    "auto_pdf_assistant.print_response(\"Tell me about food safety?\", stream=True)"
   ]
  },
  {
   "cell_type": "code",
   "execution_count": null,
   "id": "0945b63a-1a8d-436b-b20b-a000779e2afa",
   "metadata": {},
   "outputs": [],
   "source": [
    "food_safety_response = auto_pdf_assistant.run(\"Tell me about food safety?\", stream=False)\n",
    "print(food_safety_response)"
   ]
  }
 ],
 "metadata": {
  "kernelspec": {
   "display_name": "Python 3 (ipykernel)",
   "language": "python",
   "name": "python3"
  },
  "language_info": {
   "codemirror_mode": {
    "name": "ipython",
    "version": 3
   },
   "file_extension": ".py",
   "mimetype": "text/x-python",
   "name": "python",
   "nbconvert_exporter": "python",
   "pygments_lexer": "ipython3",
   "version": "3.11.5"
  }
 },
 "nbformat": 4,
 "nbformat_minor": 5
}
